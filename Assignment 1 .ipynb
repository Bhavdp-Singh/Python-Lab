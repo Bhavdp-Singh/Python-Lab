{
 "cells": [
  {
   "cell_type": "code",
   "execution_count": 1,
   "id": "c30667de",
   "metadata": {},
   "outputs": [
    {
     "name": "stdout",
     "output_type": "stream",
     "text": [
      "Enter Your Name\tBhavdeep\n",
      "Enter You Age\t22\n",
      "Enter the Number of times you want to print Message \t6\n",
      "Hello! Bhavdeep, and you will be of 100 years in 2099\n",
      "\n",
      "Printing Multiple copies \n",
      "\n",
      "Hello! Bhavdeep, and you will be of 100 years in 2099\n",
      "\n",
      "Hello! Bhavdeep, and you will be of 100 years in 2099\n",
      "\n",
      "Hello! Bhavdeep, and you will be of 100 years in 2099\n",
      "\n",
      "Hello! Bhavdeep, and you will be of 100 years in 2099\n",
      "\n",
      "Hello! Bhavdeep, and you will be of 100 years in 2099\n",
      "\n",
      "Hello! Bhavdeep, and you will be of 100 years in 2099\n",
      "\n"
     ]
    }
   ],
   "source": [
    "\n",
    "import datetime\n",
    "## Question 1\n",
    "def printName():\n",
    "  name = input(\"Enter Your Name\\t\")\n",
    "  age = int(input(\"Enter You Age\\t\"))\n",
    "  number = int(input(\"Enter the Number of times you want to print Message \\t\"))\n",
    "  age_100 = (datetime.datetime.now().year) + (100-age)\n",
    "  print(\"Hello! \"+name+ \", and you will be of 100 years in \"+ str(age_100)+\"\\n\")\n",
    "\n",
    "  print(\"Printing Multiple copies \\n\")\n",
    "  for i in range(number):\n",
    "    print(\"Hello! \"+name+ \", and you will be of 100 years in \"+ str(age_100)+\"\\n\")\n",
    "  \n",
    "\n",
    "printName()"
   ]
  },
  {
   "cell_type": "code",
   "execution_count": 2,
   "id": "61cb3e6d",
   "metadata": {},
   "outputs": [
    {
     "name": "stdout",
     "output_type": "stream",
     "text": [
      "1\n",
      "1\n",
      "2\n",
      "3\n",
      "New List is [1, 1, 2, 3]\n",
      "New List in one line is[1, 1, 2, 3]\n",
      "Enter the number to find ele smaller than the number25\n",
      "Elements smaller than25 are [1, 1, 2, 3, 5, 8, 13, 21]\n"
     ]
    }
   ],
   "source": [
    "## Question 2\n",
    "def printele(lst):\n",
    "  # Printing Elements Less than 5\n",
    "  new_lst = []\n",
    "  for i in lst:\n",
    "    if i<5: \n",
    "      print(i)\n",
    "      ##1. Appending in List\n",
    "      new_lst.append(i)\n",
    "  print(\"New List is {}\".format(new_lst))\n",
    "\n",
    "  ##2. Appending in one line\n",
    "  new_lst2 = [x for x in lst if x<5]\n",
    "  print(\"New List in one line is{}\".format(new_lst2))\n",
    "\n",
    "  ##3. Asking user and responding accordingly\n",
    "  number = int(input(\"Enter the number to find ele smaller than the number\"))\n",
    "  new_lst3 = [x for x in lst if x<number]\n",
    "  print(\"Elements smaller than{} are {}\".format(number, new_lst3))\n",
    "\n",
    "\n",
    "\n",
    "a = [1, 1, 2, 3, 5, 8, 13, 21, 34, 55, 89]\n",
    "printele(a)\n"
   ]
  },
  {
   "cell_type": "code",
   "execution_count": 4,
   "id": "ea54ad46",
   "metadata": {},
   "outputs": [
    {
     "name": "stdout",
     "output_type": "stream",
     "text": [
      "Without using Sets\n",
      "1\n",
      "2\n",
      "3\n",
      "5\n",
      "8\n",
      "13\n",
      "21\n",
      "34\n",
      "55\n",
      "89\n"
     ]
    }
   ],
   "source": [
    "\n",
    "## Question 4\n",
    "def lst_unique(lst):\n",
    "  unique = []\n",
    "  for l in lst:\n",
    "    if l not in unique:\n",
    "      unique.append(l)\n",
    "  for x in unique:\n",
    "    print(x)\n",
    "\n",
    "def using_set(lst):\n",
    "  list_set = set(lst)\n",
    "  unique_list = list(list_set)\n",
    "  for x in unique_list:\n",
    "    print(x)\n",
    "\n",
    "a = [1, 1, 2, 3, 5, 8, 13, 21, 34, 55, 89, 21, 89]\n",
    "print(\"Without using Sets\")\n",
    "lst_unique(a)"
   ]
  },
  {
   "cell_type": "code",
   "execution_count": 5,
   "id": "dbc7e669",
   "metadata": {},
   "outputs": [
    {
     "name": "stdout",
     "output_type": "stream",
     "text": [
      "Using Sets\n",
      "1\n",
      "2\n",
      "3\n",
      "34\n",
      "5\n",
      "8\n",
      "13\n",
      "21\n",
      "55\n",
      "89\n"
     ]
    }
   ],
   "source": [
    "print(\"Using Sets\")\n",
    "using_set(a)"
   ]
  },
  {
   "cell_type": "code",
   "execution_count": 6,
   "id": "d86b67ca",
   "metadata": {},
   "outputs": [
    {
     "name": "stdout",
     "output_type": "stream",
     "text": [
      "Enter Number you want to check \t16\n",
      "Number is not Prime\n"
     ]
    }
   ],
   "source": [
    "\n",
    "## Question 5\n",
    "def prime_check():\n",
    "  num = int(input(\"Enter Number you want to check \\t\"))\n",
    "  flag = 1\n",
    "  for i in range(2, int(num/2)):\n",
    "    if(num%i == 0):\n",
    "      flag = 0\n",
    "      break\n",
    "  if(flag==0):\n",
    "    print(\"Number is not Prime\")\n",
    "  else:\n",
    "    print(\"Number is Prime\")\n",
    "\n",
    "prime_check()"
   ]
  },
  {
   "cell_type": "code",
   "execution_count": 7,
   "id": "e87cf844",
   "metadata": {},
   "outputs": [
    {
     "name": "stdout",
     "output_type": "stream",
     "text": [
      "Enter Number you want to check \t17\n",
      "Number is Prime\n"
     ]
    }
   ],
   "source": [
    "prime_check()"
   ]
  },
  {
   "cell_type": "code",
   "execution_count": 9,
   "id": "ac30807d",
   "metadata": {},
   "outputs": [
    {
     "name": "stdout",
     "output_type": "stream",
     "text": [
      "Enter the number of numbers for seq.6\n",
      "Fibonacci sequence:\n",
      "0\n",
      "1\n",
      "1\n",
      "2\n",
      "3\n",
      "5\n"
     ]
    }
   ],
   "source": [
    "## Question 3 Fibonacci series\n",
    "\n",
    "def fibo(n):\n",
    "   if n <= 1:\n",
    "       return n\n",
    "   else:\n",
    "       return(fibo(n-1) + fibo(n-2))\n",
    "\n",
    "nterms = int(input(\"Enter the number of numbers for seq.\"))\n",
    "print(\"Fibonacci sequence:\")\n",
    "for i in range(nterms):\n",
    "  print(fibo(i))"
   ]
  },
  {
   "cell_type": "code",
   "execution_count": null,
   "id": "3333df94",
   "metadata": {},
   "outputs": [],
   "source": []
  }
 ],
 "metadata": {
  "kernelspec": {
   "display_name": "Python 3",
   "language": "python",
   "name": "python3"
  },
  "language_info": {
   "codemirror_mode": {
    "name": "ipython",
    "version": 3
   },
   "file_extension": ".py",
   "mimetype": "text/x-python",
   "name": "python",
   "nbconvert_exporter": "python",
   "pygments_lexer": "ipython3",
   "version": "3.9.4"
  }
 },
 "nbformat": 4,
 "nbformat_minor": 5
}
